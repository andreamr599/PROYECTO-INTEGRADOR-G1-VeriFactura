{
  "cells": [
    {
      "cell_type": "markdown",
      "metadata": {},
      "source": [
        "# Conversi\u00f3n de script .py a notebook .ipynb\n",
        "Este notebook contiene el c\u00f3digo del cargador de documentos PDF."
      ]
    },
    {
      "cell_type": "code",
      "execution_count": null,
      "metadata": {},
      "outputs": [],
      "source": [
        "from dataclasses import dataclass\n",
        "from typing import List, Dict, Any\n",
        "from pathlib import Path\n",
        "from PyPDF2 import PdfReader"
      ]
    },
    {
      "cell_type": "code",
      "execution_count": null,
      "metadata": {},
      "outputs": [],
      "source": [
        "@dataclass\n",
        "class Doc:\n",
        "    path: str\n",
        "    pages: List[str]\n",
        "    meta: Dict[str, Any]"
      ]
    },
    {
      "cell_type": "code",
      "execution_count": null,
      "metadata": {},
      "outputs": [],
      "source": [
        "class DocLoader:\n",
        "    def __init__(self):\n",
        "        pass\n",
        "\n",
        "    def load(self, input_path: str) -> List[Doc]:\n",
        "        p = Path(input_path)\n",
        "        docs = []\n",
        "        if p.is_dir():\n",
        "            files = sorted([x for x in p.iterdir() if x.suffix.lower() in {'.pdf'}])\n",
        "        else:\n",
        "            files = [p]\n",
        "        for file in files:\n",
        "            try:\n",
        "                reader = PdfReader(str(file))\n",
        "                pages = []\n",
        "                for page in reader.pages:\n",
        "                    try:\n",
        "                        txt = page.extract_text() or \"\"\n",
        "                    except Exception:\n",
        "                        txt = \"\"\n",
        "                    pages.append(txt)\n",
        "                meta = {\"n_pages\": len(pages), \"name\": file.name}\n",
        "                docs.append(Doc(path=str(file), pages=pages, meta=meta))\n",
        "            except Exception as e:\n",
        "                docs.append(Doc(path=str(file), pages=[\"\"], meta={\"error\": str(e), \"name\": file.name}))\n",
        "        return docs"
      ]
    },
    {
      "cell_type": "markdown",
      "metadata": {},
      "source": [
        "## Ejemplo de uso\n",
        "Descomenta y ajusta la ruta para probar con un PDF."
      ]
    },
    {
      "cell_type": "code",
      "execution_count": null,
      "metadata": {},
      "outputs": [],
      "source": [
        "# loader = DocLoader()\n",
        "# documentos = loader.load(\"/ruta/a/tu/pdf\")\n",
        "# documentos[0].meta"
      ]
    }
  ],
  "metadata": {
    "kernelspec": {
      "display_name": "Python 3",
      "language": "python",
      "name": "python3"
    },
    "language_info": {
      "name": "python",
      "version": "3.10"
    }
  },
  "nbformat": 4,
  "nbformat_minor": 5
}