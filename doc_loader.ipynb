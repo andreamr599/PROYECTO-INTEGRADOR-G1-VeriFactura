{
  "cells": [
    {
      "cell_type": "markdown",
      "metadata": {
        "id": "view-in-github",
        "colab_type": "text"
      },
      "source": [
        "<a href=\"https://colab.research.google.com/github/andreamr599/PROYECTO-INTEGRADOR-G1-VeriFactura/blob/main/doc_loader.ipynb\" target=\"_parent\"><img src=\"https://colab.research.google.com/assets/colab-badge.svg\" alt=\"Open In Colab\"/></a>"
      ]
    },
    {
      "cell_type": "markdown",
      "metadata": {
        "id": "CAE8xCBcwGwm"
      },
      "source": [
        "# Cargar documentos\n",
        "Este notebook contiene el código del cargador de documentos PDF."
      ],
      "id": "CAE8xCBcwGwm"
    },
    {
      "cell_type": "code",
      "metadata": {
        "colab": {
          "base_uri": "https://localhost:8080/"
        },
        "id": "7ff90259",
        "outputId": "b91e7601-a0b8-4463-f1fd-c51e7db86dc2"
      },
      "source": [
        "%pip install PyPDF2"
      ],
      "id": "7ff90259",
      "execution_count": 9,
      "outputs": [
        {
          "output_type": "stream",
          "name": "stdout",
          "text": [
            "Requirement already satisfied: PyPDF2 in /usr/local/lib/python3.12/dist-packages (3.0.1)\n"
          ]
        }
      ]
    },
    {
      "cell_type": "code",
      "execution_count": 10,
      "metadata": {
        "id": "ZbxwhPPHwGw3"
      },
      "outputs": [],
      "source": [
        "@dataclass\n",
        "class Doc:\n",
        "    path: str\n",
        "    pages: List[str]\n",
        "    meta: Dict[str, Any]"
      ],
      "id": "ZbxwhPPHwGw3"
    },
    {
      "cell_type": "code",
      "execution_count": 11,
      "metadata": {
        "id": "jlD0Xp3OwGw5"
      },
      "outputs": [],
      "source": [
        "class DocLoader:\n",
        "    def __init__(self):\n",
        "        pass\n",
        "\n",
        "    def load(self, input_path: str) -> List[Doc]:\n",
        "        p = Path(input_path)\n",
        "        docs = []\n",
        "        if p.is_dir():\n",
        "            files = sorted([x for x in p.iterdir() if x.suffix.lower() in {'.pdf'}])\n",
        "        else:\n",
        "            files = [p]\n",
        "        for file in files:\n",
        "            try:\n",
        "                reader = PdfReader(str(file))\n",
        "                pages = []\n",
        "                for page in reader.pages:\n",
        "                    try:\n",
        "                        txt = page.extract_text() or \"\"\n",
        "                    except Exception:\n",
        "                        txt = \"\"\n",
        "                    pages.append(txt)\n",
        "                meta = {\"n_pages\": len(pages), \"name\": file.name}\n",
        "                docs.append(Doc(path=str(file), pages=pages, meta=meta))\n",
        "            except Exception as e:\n",
        "                docs.append(Doc(path=str(file), pages=[\"\"], meta={\"error\": str(e), \"name\": file.name}))\n",
        "        return docs"
      ],
      "id": "jlD0Xp3OwGw5"
    },
    {
      "cell_type": "code",
      "source": [
        "from dataclasses import dataclass\n",
        "from typing import List, Dict, Any\n",
        "from pathlib import Path\n",
        "from PyPDF2 import PdfReader\n",
        "\n",
        "@dataclass\n",
        "class Doc:\n",
        "    path: str\n",
        "    pages: List[str]\n",
        "    meta: Dict[str, Any]\n",
        "\n",
        "class DocLoader:\n",
        "    def __init__(self):\n",
        "        pass\n",
        "\n",
        "    def load(self, input_path: str) -> List[Doc]:\n",
        "        p = Path(input_path)\n",
        "        docs = []\n",
        "\n",
        "        # Si es carpeta, leer todos los PDFs dentro\n",
        "        if p.is_dir():\n",
        "            pdf_files = list(p.glob(\"*.pdf\"))\n",
        "        else:\n",
        "            pdf_files = [p]\n",
        "\n",
        "        for pdf_file in pdf_files:\n",
        "            reader = PdfReader(pdf_file)\n",
        "            pages = [page.extract_text() or \"\" for page in reader.pages]\n",
        "\n",
        "            doc = Doc(\n",
        "                path=str(pdf_file),\n",
        "                pages=pages,\n",
        "                meta={\n",
        "                    \"n_pages\": len(pages),\n",
        "                    \"file_name\": pdf_file.name,\n",
        "                    \"file_size\": pdf_file.stat().st_size\n",
        "                }\n",
        "            )\n",
        "            docs.append(doc)\n",
        "\n",
        "        return docs\n"
      ],
      "metadata": {
        "id": "_oqiDPal0RoW"
      },
      "id": "_oqiDPal0RoW",
      "execution_count": 14,
      "outputs": []
    },
    {
      "cell_type": "code",
      "metadata": {
        "colab": {
          "base_uri": "https://localhost:8080/"
        },
        "id": "1a345ee1",
        "outputId": "b1d12204-8662-4e2c-8776-f76e4c8a9516"
      },
      "source": [
        "from google.colab import drive\n",
        "drive.mount('/content/drive')"
      ],
      "id": "1a345ee1",
      "execution_count": 20,
      "outputs": [
        {
          "output_type": "stream",
          "name": "stdout",
          "text": [
            "Drive already mounted at /content/drive; to attempt to forcibly remount, call drive.mount(\"/content/drive\", force_remount=True).\n"
          ]
        }
      ]
    }
  ],
  "metadata": {
    "kernelspec": {
      "display_name": "Python 3",
      "language": "python",
      "name": "python3"
    },
    "language_info": {
      "name": "python",
      "version": "3.10"
    },
    "colab": {
      "provenance": [],
      "include_colab_link": true
    }
  },
  "nbformat": 4,
  "nbformat_minor": 5
}